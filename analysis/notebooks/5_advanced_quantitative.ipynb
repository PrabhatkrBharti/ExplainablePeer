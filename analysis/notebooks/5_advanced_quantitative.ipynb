{
 "cells": [
  {
   "cell_type": "markdown",
   "metadata": {},
   "source": [
    "## Importing all the datasets"
   ]
  },
  {
   "cell_type": "code",
   "execution_count": null,
   "metadata": {},
   "outputs": [],
   "source": [
    "import pandas as pd # type: ignore\n",
    "\n",
    "directory = \"../preprocessed/\"\n",
    "directories = [directory + \"gemini_annotated.csv\", directory + \"mistral_annotated.csv\", directory + \"llama_annotated.csv\", directory + \"gpt_annotated.csv\", directory + \"manually_annotated.csv\"]"
   ]
  },
  {
   "cell_type": "code",
   "execution_count": 10,
   "metadata": {},
   "outputs": [],
   "source": [
    "gemini_df = pd.read_csv(directories[0], index_col='Index')\n",
    "mistral_df = pd.read_csv(directories[1], index_col='Index')\n",
    "llama_df = pd.read_csv(directories[2], index_col='Index')\n",
    "gpt_df = pd.read_csv(directories[3], index_col='Index')\n",
    "manually_df = pd.read_csv(directories[4], index_col='Index')"
   ]
  },
  {
   "cell_type": "code",
   "execution_count": 11,
   "metadata": {},
   "outputs": [],
   "source": [
    "datasets = {\n",
    "    'Manual': manually_df,\n",
    "    'GPT': gpt_df,\n",
    "    'Gemini': gemini_df,\n",
    "    'Mistral': mistral_df,\n",
    "    'Llama': llama_df\n",
    "}"
   ]
  },
  {
   "cell_type": "code",
   "execution_count": 12,
   "metadata": {},
   "outputs": [],
   "source": [
    "for df in [manually_df, gemini_df, mistral_df, gpt_df, llama_df]:\n",
    "    if 'Index' not in df.columns:\n",
    "        df['Index'] = df.index"
   ]
  },
  {
   "cell_type": "code",
   "execution_count": 13,
   "metadata": {},
   "outputs": [],
   "source": [
    "manual_df = manually_df\n",
    "llm_dfs = [gpt_df, gemini_df, mistral_df, llama_df]"
   ]
  },
  {
   "cell_type": "code",
   "execution_count": 14,
   "metadata": {},
   "outputs": [
    {
     "data": {
      "text/html": [
       "<div>\n",
       "<style scoped>\n",
       "    .dataframe tbody tr th:only-of-type {\n",
       "        vertical-align: middle;\n",
       "    }\n",
       "\n",
       "    .dataframe tbody tr th {\n",
       "        vertical-align: top;\n",
       "    }\n",
       "\n",
       "    .dataframe thead th {\n",
       "        text-align: right;\n",
       "    }\n",
       "</style>\n",
       "<table border=\"1\" class=\"dataframe\">\n",
       "  <thead>\n",
       "    <tr style=\"text-align: right;\">\n",
       "      <th></th>\n",
       "      <th>Text</th>\n",
       "      <th>Clarity of Review</th>\n",
       "      <th>Justification of Scores</th>\n",
       "      <th>Depth of Analysis</th>\n",
       "      <th>Fairness and Objectivity</th>\n",
       "      <th>Constructiveness of Feedback</th>\n",
       "      <th>Engagement with Related Work</th>\n",
       "      <th>Accuracy in Understanding</th>\n",
       "      <th>Consistency of Evaluation</th>\n",
       "      <th>Identification of Novelty</th>\n",
       "      <th>Ethical Considerations and Responsibility</th>\n",
       "      <th>Index</th>\n",
       "    </tr>\n",
       "    <tr>\n",
       "      <th>Index</th>\n",
       "      <th></th>\n",
       "      <th></th>\n",
       "      <th></th>\n",
       "      <th></th>\n",
       "      <th></th>\n",
       "      <th></th>\n",
       "      <th></th>\n",
       "      <th></th>\n",
       "      <th></th>\n",
       "      <th></th>\n",
       "      <th></th>\n",
       "      <th></th>\n",
       "    </tr>\n",
       "  </thead>\n",
       "  <tbody>\n",
       "    <tr>\n",
       "      <th>B11bwYgfM-R1</th>\n",
       "      <td>The idea of using cross-task transfer performa...</td>\n",
       "      <td>1</td>\n",
       "      <td>1</td>\n",
       "      <td>1</td>\n",
       "      <td>1</td>\n",
       "      <td>1</td>\n",
       "      <td>1</td>\n",
       "      <td>1</td>\n",
       "      <td>1</td>\n",
       "      <td>1</td>\n",
       "      <td>1</td>\n",
       "      <td>B11bwYgfM-R1</td>\n",
       "    </tr>\n",
       "    <tr>\n",
       "      <th>B11bwYgfM-R2</th>\n",
       "      <td>This paper proposes a method for multitask and...</td>\n",
       "      <td>1</td>\n",
       "      <td>1</td>\n",
       "      <td>1</td>\n",
       "      <td>1</td>\n",
       "      <td>1</td>\n",
       "      <td>-1</td>\n",
       "      <td>1</td>\n",
       "      <td>1</td>\n",
       "      <td>1</td>\n",
       "      <td>1</td>\n",
       "      <td>B11bwYgfM-R2</td>\n",
       "    </tr>\n",
       "    <tr>\n",
       "      <th>B11bwYgfM-R3</th>\n",
       "      <td>The authors propose techniques for multitask a...</td>\n",
       "      <td>1</td>\n",
       "      <td>1</td>\n",
       "      <td>1</td>\n",
       "      <td>1</td>\n",
       "      <td>1</td>\n",
       "      <td>1</td>\n",
       "      <td>1</td>\n",
       "      <td>1</td>\n",
       "      <td>1</td>\n",
       "      <td>1</td>\n",
       "      <td>B11bwYgfM-R3</td>\n",
       "    </tr>\n",
       "    <tr>\n",
       "      <th>B12Js_yRb-R1</th>\n",
       "      <td>\\nSummary: \\n- This paper proposes a hand-desi...</td>\n",
       "      <td>1</td>\n",
       "      <td>1</td>\n",
       "      <td>1</td>\n",
       "      <td>1</td>\n",
       "      <td>1</td>\n",
       "      <td>1</td>\n",
       "      <td>1</td>\n",
       "      <td>1</td>\n",
       "      <td>1</td>\n",
       "      <td>1</td>\n",
       "      <td>B12Js_yRb-R1</td>\n",
       "    </tr>\n",
       "    <tr>\n",
       "      <th>B12Js_yRb-R2</th>\n",
       "      <td>Summary\\n - This paper mainly focuses on a cou...</td>\n",
       "      <td>1</td>\n",
       "      <td>1</td>\n",
       "      <td>-1</td>\n",
       "      <td>1</td>\n",
       "      <td>1</td>\n",
       "      <td>-1</td>\n",
       "      <td>1</td>\n",
       "      <td>1</td>\n",
       "      <td>1</td>\n",
       "      <td>1</td>\n",
       "      <td>B12Js_yRb-R2</td>\n",
       "    </tr>\n",
       "  </tbody>\n",
       "</table>\n",
       "</div>"
      ],
      "text/plain": [
       "                                                           Text  \\\n",
       "Index                                                             \n",
       "B11bwYgfM-R1  The idea of using cross-task transfer performa...   \n",
       "B11bwYgfM-R2  This paper proposes a method for multitask and...   \n",
       "B11bwYgfM-R3  The authors propose techniques for multitask a...   \n",
       "B12Js_yRb-R1  \\nSummary: \\n- This paper proposes a hand-desi...   \n",
       "B12Js_yRb-R2  Summary\\n - This paper mainly focuses on a cou...   \n",
       "\n",
       "              Clarity of Review  Justification of Scores  Depth of Analysis  \\\n",
       "Index                                                                         \n",
       "B11bwYgfM-R1                  1                        1                  1   \n",
       "B11bwYgfM-R2                  1                        1                  1   \n",
       "B11bwYgfM-R3                  1                        1                  1   \n",
       "B12Js_yRb-R1                  1                        1                  1   \n",
       "B12Js_yRb-R2                  1                        1                 -1   \n",
       "\n",
       "              Fairness and Objectivity  Constructiveness of Feedback  \\\n",
       "Index                                                                  \n",
       "B11bwYgfM-R1                         1                             1   \n",
       "B11bwYgfM-R2                         1                             1   \n",
       "B11bwYgfM-R3                         1                             1   \n",
       "B12Js_yRb-R1                         1                             1   \n",
       "B12Js_yRb-R2                         1                             1   \n",
       "\n",
       "              Engagement with Related Work  Accuracy in Understanding  \\\n",
       "Index                                                                   \n",
       "B11bwYgfM-R1                             1                          1   \n",
       "B11bwYgfM-R2                            -1                          1   \n",
       "B11bwYgfM-R3                             1                          1   \n",
       "B12Js_yRb-R1                             1                          1   \n",
       "B12Js_yRb-R2                            -1                          1   \n",
       "\n",
       "              Consistency of Evaluation  Identification of Novelty  \\\n",
       "Index                                                                \n",
       "B11bwYgfM-R1                          1                          1   \n",
       "B11bwYgfM-R2                          1                          1   \n",
       "B11bwYgfM-R3                          1                          1   \n",
       "B12Js_yRb-R1                          1                          1   \n",
       "B12Js_yRb-R2                          1                          1   \n",
       "\n",
       "              Ethical Considerations and Responsibility         Index  \n",
       "Index                                                                  \n",
       "B11bwYgfM-R1                                          1  B11bwYgfM-R1  \n",
       "B11bwYgfM-R2                                          1  B11bwYgfM-R2  \n",
       "B11bwYgfM-R3                                          1  B11bwYgfM-R3  \n",
       "B12Js_yRb-R1                                          1  B12Js_yRb-R1  \n",
       "B12Js_yRb-R2                                          1  B12Js_yRb-R2  "
      ]
     },
     "execution_count": 14,
     "metadata": {},
     "output_type": "execute_result"
    }
   ],
   "source": [
    "manually_df.head()"
   ]
  },
  {
   "cell_type": "markdown",
   "metadata": {},
   "source": [
    "## Simple Statistical Analysis"
   ]
  },
  {
   "cell_type": "code",
   "execution_count": 15,
   "metadata": {},
   "outputs": [],
   "source": [
    "criteria_columns = [\n",
    "    'Clarity of Review', 'Justification of Scores', 'Depth of Analysis', \n",
    "    'Fairness and Objectivity', 'Constructiveness of Feedback', 'Engagement with Related Work', \n",
    "    'Accuracy in Understanding', 'Consistency of Evaluation', 'Identification of Novelty', \n",
    "    'Ethical Considerations and Responsibility'\n",
    "]"
   ]
  },
  {
   "cell_type": "code",
   "execution_count": 16,
   "metadata": {},
   "outputs": [],
   "source": [
    "distribution_data = []\n",
    "\n",
    "for dataset_name, df in datasets.items():\n",
    "    for criterion in criteria_columns:\n",
    "        pos_count = (df[criterion] == 1).sum()\n",
    "        neg_count = (df[criterion] == -1).sum()\n",
    "        distribution_data.append({\n",
    "            'Dataset': dataset_name,\n",
    "            'Criterion': criterion,\n",
    "            'Positive': pos_count,\n",
    "            'Negative': neg_count\n",
    "        })\n",
    "\n",
    "distribution_df = pd.DataFrame(distribution_data)"
   ]
  },
  {
   "cell_type": "code",
   "execution_count": 17,
   "metadata": {},
   "outputs": [
    {
     "data": {
      "text/html": [
       "<div>\n",
       "<style scoped>\n",
       "    .dataframe tbody tr th:only-of-type {\n",
       "        vertical-align: middle;\n",
       "    }\n",
       "\n",
       "    .dataframe tbody tr th {\n",
       "        vertical-align: top;\n",
       "    }\n",
       "\n",
       "    .dataframe thead th {\n",
       "        text-align: right;\n",
       "    }\n",
       "</style>\n",
       "<table border=\"1\" class=\"dataframe\">\n",
       "  <thead>\n",
       "    <tr style=\"text-align: right;\">\n",
       "      <th></th>\n",
       "      <th>Dataset</th>\n",
       "      <th>Criterion</th>\n",
       "      <th>Positive</th>\n",
       "      <th>Negative</th>\n",
       "    </tr>\n",
       "  </thead>\n",
       "  <tbody>\n",
       "    <tr>\n",
       "      <th>0</th>\n",
       "      <td>Manual</td>\n",
       "      <td>Clarity of Review</td>\n",
       "      <td>165</td>\n",
       "      <td>11</td>\n",
       "    </tr>\n",
       "    <tr>\n",
       "      <th>1</th>\n",
       "      <td>Manual</td>\n",
       "      <td>Justification of Scores</td>\n",
       "      <td>150</td>\n",
       "      <td>26</td>\n",
       "    </tr>\n",
       "    <tr>\n",
       "      <th>2</th>\n",
       "      <td>Manual</td>\n",
       "      <td>Depth of Analysis</td>\n",
       "      <td>140</td>\n",
       "      <td>36</td>\n",
       "    </tr>\n",
       "    <tr>\n",
       "      <th>3</th>\n",
       "      <td>Manual</td>\n",
       "      <td>Fairness and Objectivity</td>\n",
       "      <td>60</td>\n",
       "      <td>116</td>\n",
       "    </tr>\n",
       "    <tr>\n",
       "      <th>4</th>\n",
       "      <td>Manual</td>\n",
       "      <td>Constructiveness of Feedback</td>\n",
       "      <td>100</td>\n",
       "      <td>76</td>\n",
       "    </tr>\n",
       "    <tr>\n",
       "      <th>5</th>\n",
       "      <td>Manual</td>\n",
       "      <td>Engagement with Related Work</td>\n",
       "      <td>68</td>\n",
       "      <td>108</td>\n",
       "    </tr>\n",
       "    <tr>\n",
       "      <th>6</th>\n",
       "      <td>Manual</td>\n",
       "      <td>Accuracy in Understanding</td>\n",
       "      <td>98</td>\n",
       "      <td>78</td>\n",
       "    </tr>\n",
       "    <tr>\n",
       "      <th>7</th>\n",
       "      <td>Manual</td>\n",
       "      <td>Consistency of Evaluation</td>\n",
       "      <td>98</td>\n",
       "      <td>78</td>\n",
       "    </tr>\n",
       "    <tr>\n",
       "      <th>8</th>\n",
       "      <td>Manual</td>\n",
       "      <td>Identification of Novelty</td>\n",
       "      <td>56</td>\n",
       "      <td>120</td>\n",
       "    </tr>\n",
       "    <tr>\n",
       "      <th>9</th>\n",
       "      <td>Manual</td>\n",
       "      <td>Ethical Considerations and Responsibility</td>\n",
       "      <td>47</td>\n",
       "      <td>129</td>\n",
       "    </tr>\n",
       "    <tr>\n",
       "      <th>10</th>\n",
       "      <td>GPT</td>\n",
       "      <td>Clarity of Review</td>\n",
       "      <td>826</td>\n",
       "      <td>77</td>\n",
       "    </tr>\n",
       "    <tr>\n",
       "      <th>11</th>\n",
       "      <td>GPT</td>\n",
       "      <td>Justification of Scores</td>\n",
       "      <td>800</td>\n",
       "      <td>103</td>\n",
       "    </tr>\n",
       "    <tr>\n",
       "      <th>12</th>\n",
       "      <td>GPT</td>\n",
       "      <td>Depth of Analysis</td>\n",
       "      <td>785</td>\n",
       "      <td>118</td>\n",
       "    </tr>\n",
       "    <tr>\n",
       "      <th>13</th>\n",
       "      <td>GPT</td>\n",
       "      <td>Fairness and Objectivity</td>\n",
       "      <td>127</td>\n",
       "      <td>776</td>\n",
       "    </tr>\n",
       "    <tr>\n",
       "      <th>14</th>\n",
       "      <td>GPT</td>\n",
       "      <td>Constructiveness of Feedback</td>\n",
       "      <td>475</td>\n",
       "      <td>428</td>\n",
       "    </tr>\n",
       "    <tr>\n",
       "      <th>15</th>\n",
       "      <td>GPT</td>\n",
       "      <td>Engagement with Related Work</td>\n",
       "      <td>457</td>\n",
       "      <td>446</td>\n",
       "    </tr>\n",
       "    <tr>\n",
       "      <th>16</th>\n",
       "      <td>GPT</td>\n",
       "      <td>Accuracy in Understanding</td>\n",
       "      <td>461</td>\n",
       "      <td>442</td>\n",
       "    </tr>\n",
       "    <tr>\n",
       "      <th>17</th>\n",
       "      <td>GPT</td>\n",
       "      <td>Consistency of Evaluation</td>\n",
       "      <td>450</td>\n",
       "      <td>453</td>\n",
       "    </tr>\n",
       "    <tr>\n",
       "      <th>18</th>\n",
       "      <td>GPT</td>\n",
       "      <td>Identification of Novelty</td>\n",
       "      <td>217</td>\n",
       "      <td>686</td>\n",
       "    </tr>\n",
       "    <tr>\n",
       "      <th>19</th>\n",
       "      <td>GPT</td>\n",
       "      <td>Ethical Considerations and Responsibility</td>\n",
       "      <td>17</td>\n",
       "      <td>886</td>\n",
       "    </tr>\n",
       "    <tr>\n",
       "      <th>20</th>\n",
       "      <td>Gemini</td>\n",
       "      <td>Clarity of Review</td>\n",
       "      <td>426</td>\n",
       "      <td>477</td>\n",
       "    </tr>\n",
       "    <tr>\n",
       "      <th>21</th>\n",
       "      <td>Gemini</td>\n",
       "      <td>Justification of Scores</td>\n",
       "      <td>394</td>\n",
       "      <td>509</td>\n",
       "    </tr>\n",
       "    <tr>\n",
       "      <th>22</th>\n",
       "      <td>Gemini</td>\n",
       "      <td>Depth of Analysis</td>\n",
       "      <td>428</td>\n",
       "      <td>475</td>\n",
       "    </tr>\n",
       "    <tr>\n",
       "      <th>23</th>\n",
       "      <td>Gemini</td>\n",
       "      <td>Fairness and Objectivity</td>\n",
       "      <td>437</td>\n",
       "      <td>466</td>\n",
       "    </tr>\n",
       "    <tr>\n",
       "      <th>24</th>\n",
       "      <td>Gemini</td>\n",
       "      <td>Constructiveness of Feedback</td>\n",
       "      <td>405</td>\n",
       "      <td>498</td>\n",
       "    </tr>\n",
       "    <tr>\n",
       "      <th>25</th>\n",
       "      <td>Gemini</td>\n",
       "      <td>Engagement with Related Work</td>\n",
       "      <td>395</td>\n",
       "      <td>508</td>\n",
       "    </tr>\n",
       "    <tr>\n",
       "      <th>26</th>\n",
       "      <td>Gemini</td>\n",
       "      <td>Accuracy in Understanding</td>\n",
       "      <td>424</td>\n",
       "      <td>479</td>\n",
       "    </tr>\n",
       "    <tr>\n",
       "      <th>27</th>\n",
       "      <td>Gemini</td>\n",
       "      <td>Consistency of Evaluation</td>\n",
       "      <td>374</td>\n",
       "      <td>529</td>\n",
       "    </tr>\n",
       "    <tr>\n",
       "      <th>28</th>\n",
       "      <td>Gemini</td>\n",
       "      <td>Identification of Novelty</td>\n",
       "      <td>333</td>\n",
       "      <td>570</td>\n",
       "    </tr>\n",
       "    <tr>\n",
       "      <th>29</th>\n",
       "      <td>Gemini</td>\n",
       "      <td>Ethical Considerations and Responsibility</td>\n",
       "      <td>25</td>\n",
       "      <td>878</td>\n",
       "    </tr>\n",
       "    <tr>\n",
       "      <th>30</th>\n",
       "      <td>Mistral</td>\n",
       "      <td>Clarity of Review</td>\n",
       "      <td>903</td>\n",
       "      <td>0</td>\n",
       "    </tr>\n",
       "    <tr>\n",
       "      <th>31</th>\n",
       "      <td>Mistral</td>\n",
       "      <td>Justification of Scores</td>\n",
       "      <td>877</td>\n",
       "      <td>26</td>\n",
       "    </tr>\n",
       "    <tr>\n",
       "      <th>32</th>\n",
       "      <td>Mistral</td>\n",
       "      <td>Depth of Analysis</td>\n",
       "      <td>859</td>\n",
       "      <td>44</td>\n",
       "    </tr>\n",
       "    <tr>\n",
       "      <th>33</th>\n",
       "      <td>Mistral</td>\n",
       "      <td>Fairness and Objectivity</td>\n",
       "      <td>901</td>\n",
       "      <td>2</td>\n",
       "    </tr>\n",
       "    <tr>\n",
       "      <th>34</th>\n",
       "      <td>Mistral</td>\n",
       "      <td>Constructiveness of Feedback</td>\n",
       "      <td>715</td>\n",
       "      <td>188</td>\n",
       "    </tr>\n",
       "    <tr>\n",
       "      <th>35</th>\n",
       "      <td>Mistral</td>\n",
       "      <td>Engagement with Related Work</td>\n",
       "      <td>471</td>\n",
       "      <td>432</td>\n",
       "    </tr>\n",
       "    <tr>\n",
       "      <th>36</th>\n",
       "      <td>Mistral</td>\n",
       "      <td>Accuracy in Understanding</td>\n",
       "      <td>897</td>\n",
       "      <td>6</td>\n",
       "    </tr>\n",
       "    <tr>\n",
       "      <th>37</th>\n",
       "      <td>Mistral</td>\n",
       "      <td>Consistency of Evaluation</td>\n",
       "      <td>853</td>\n",
       "      <td>50</td>\n",
       "    </tr>\n",
       "    <tr>\n",
       "      <th>38</th>\n",
       "      <td>Mistral</td>\n",
       "      <td>Identification of Novelty</td>\n",
       "      <td>794</td>\n",
       "      <td>109</td>\n",
       "    </tr>\n",
       "    <tr>\n",
       "      <th>39</th>\n",
       "      <td>Mistral</td>\n",
       "      <td>Ethical Considerations and Responsibility</td>\n",
       "      <td>113</td>\n",
       "      <td>790</td>\n",
       "    </tr>\n",
       "    <tr>\n",
       "      <th>40</th>\n",
       "      <td>Llama</td>\n",
       "      <td>Clarity of Review</td>\n",
       "      <td>698</td>\n",
       "      <td>205</td>\n",
       "    </tr>\n",
       "    <tr>\n",
       "      <th>41</th>\n",
       "      <td>Llama</td>\n",
       "      <td>Justification of Scores</td>\n",
       "      <td>806</td>\n",
       "      <td>97</td>\n",
       "    </tr>\n",
       "    <tr>\n",
       "      <th>42</th>\n",
       "      <td>Llama</td>\n",
       "      <td>Depth of Analysis</td>\n",
       "      <td>811</td>\n",
       "      <td>92</td>\n",
       "    </tr>\n",
       "    <tr>\n",
       "      <th>43</th>\n",
       "      <td>Llama</td>\n",
       "      <td>Fairness and Objectivity</td>\n",
       "      <td>817</td>\n",
       "      <td>86</td>\n",
       "    </tr>\n",
       "    <tr>\n",
       "      <th>44</th>\n",
       "      <td>Llama</td>\n",
       "      <td>Constructiveness of Feedback</td>\n",
       "      <td>711</td>\n",
       "      <td>192</td>\n",
       "    </tr>\n",
       "    <tr>\n",
       "      <th>45</th>\n",
       "      <td>Llama</td>\n",
       "      <td>Engagement with Related Work</td>\n",
       "      <td>685</td>\n",
       "      <td>218</td>\n",
       "    </tr>\n",
       "    <tr>\n",
       "      <th>46</th>\n",
       "      <td>Llama</td>\n",
       "      <td>Accuracy in Understanding</td>\n",
       "      <td>810</td>\n",
       "      <td>93</td>\n",
       "    </tr>\n",
       "    <tr>\n",
       "      <th>47</th>\n",
       "      <td>Llama</td>\n",
       "      <td>Consistency of Evaluation</td>\n",
       "      <td>679</td>\n",
       "      <td>224</td>\n",
       "    </tr>\n",
       "    <tr>\n",
       "      <th>48</th>\n",
       "      <td>Llama</td>\n",
       "      <td>Identification of Novelty</td>\n",
       "      <td>547</td>\n",
       "      <td>356</td>\n",
       "    </tr>\n",
       "    <tr>\n",
       "      <th>49</th>\n",
       "      <td>Llama</td>\n",
       "      <td>Ethical Considerations and Responsibility</td>\n",
       "      <td>145</td>\n",
       "      <td>758</td>\n",
       "    </tr>\n",
       "  </tbody>\n",
       "</table>\n",
       "</div>"
      ],
      "text/plain": [
       "    Dataset                                  Criterion  Positive  Negative\n",
       "0    Manual                          Clarity of Review       165        11\n",
       "1    Manual                    Justification of Scores       150        26\n",
       "2    Manual                          Depth of Analysis       140        36\n",
       "3    Manual                   Fairness and Objectivity        60       116\n",
       "4    Manual               Constructiveness of Feedback       100        76\n",
       "5    Manual               Engagement with Related Work        68       108\n",
       "6    Manual                  Accuracy in Understanding        98        78\n",
       "7    Manual                  Consistency of Evaluation        98        78\n",
       "8    Manual                  Identification of Novelty        56       120\n",
       "9    Manual  Ethical Considerations and Responsibility        47       129\n",
       "10      GPT                          Clarity of Review       826        77\n",
       "11      GPT                    Justification of Scores       800       103\n",
       "12      GPT                          Depth of Analysis       785       118\n",
       "13      GPT                   Fairness and Objectivity       127       776\n",
       "14      GPT               Constructiveness of Feedback       475       428\n",
       "15      GPT               Engagement with Related Work       457       446\n",
       "16      GPT                  Accuracy in Understanding       461       442\n",
       "17      GPT                  Consistency of Evaluation       450       453\n",
       "18      GPT                  Identification of Novelty       217       686\n",
       "19      GPT  Ethical Considerations and Responsibility        17       886\n",
       "20   Gemini                          Clarity of Review       426       477\n",
       "21   Gemini                    Justification of Scores       394       509\n",
       "22   Gemini                          Depth of Analysis       428       475\n",
       "23   Gemini                   Fairness and Objectivity       437       466\n",
       "24   Gemini               Constructiveness of Feedback       405       498\n",
       "25   Gemini               Engagement with Related Work       395       508\n",
       "26   Gemini                  Accuracy in Understanding       424       479\n",
       "27   Gemini                  Consistency of Evaluation       374       529\n",
       "28   Gemini                  Identification of Novelty       333       570\n",
       "29   Gemini  Ethical Considerations and Responsibility        25       878\n",
       "30  Mistral                          Clarity of Review       903         0\n",
       "31  Mistral                    Justification of Scores       877        26\n",
       "32  Mistral                          Depth of Analysis       859        44\n",
       "33  Mistral                   Fairness and Objectivity       901         2\n",
       "34  Mistral               Constructiveness of Feedback       715       188\n",
       "35  Mistral               Engagement with Related Work       471       432\n",
       "36  Mistral                  Accuracy in Understanding       897         6\n",
       "37  Mistral                  Consistency of Evaluation       853        50\n",
       "38  Mistral                  Identification of Novelty       794       109\n",
       "39  Mistral  Ethical Considerations and Responsibility       113       790\n",
       "40    Llama                          Clarity of Review       698       205\n",
       "41    Llama                    Justification of Scores       806        97\n",
       "42    Llama                          Depth of Analysis       811        92\n",
       "43    Llama                   Fairness and Objectivity       817        86\n",
       "44    Llama               Constructiveness of Feedback       711       192\n",
       "45    Llama               Engagement with Related Work       685       218\n",
       "46    Llama                  Accuracy in Understanding       810        93\n",
       "47    Llama                  Consistency of Evaluation       679       224\n",
       "48    Llama                  Identification of Novelty       547       356\n",
       "49    Llama  Ethical Considerations and Responsibility       145       758"
      ]
     },
     "execution_count": 17,
     "metadata": {},
     "output_type": "execute_result"
    }
   ],
   "source": [
    "distribution_df"
   ]
  },
  {
   "cell_type": "code",
   "execution_count": null,
   "metadata": {},
   "outputs": [
    {
     "data": {
      "image/png": "[encoded data removed]",
      "text/plain": [
       "<Figure size 1600x1200 with 10 Axes>"
      ]
     },
     "metadata": {},
     "output_type": "display_data"
    }
   ],
   "source": [
    "import matplotlib.pyplot as plt # type: ignore\n",
    "import seaborn as sns # type: ignore\n",
    "\n",
    "criteria = distribution_df['Criterion'].unique()\n",
    "n_criteria = len(criteria)\n",
    "n_cols = 3  \n",
    "n_rows = (n_criteria + n_cols - 1) // n_cols  \n",
    "fig, axes = plt.subplots(n_rows, n_cols, figsize=(16, 12), constrained_layout=True)\n",
    "axes = axes.flatten()\n",
    "\n",
    "for i, criterion in enumerate(criteria):\n",
    "    data = distribution_df[distribution_df['Criterion'] == criterion]\n",
    "    \n",
    "    melted_data = data.melt(id_vars=[\"Dataset\", \"Criterion\"], \n",
    "                            value_vars=[\"Positive\", \"Negative\"], \n",
    "                            var_name=\"Label\", \n",
    "                            value_name=\"Count\")\n",
    "    \n",
    "    sns.barplot(\n",
    "        data=melted_data, \n",
    "        x=\"Dataset\", y=\"Count\", hue=\"Label\", \n",
    "        palette={\"Positive\": \"skyblue\", \"Negative\": \"salmon\"}, \n",
    "        ax=axes[i]\n",
    "    )\n",
    "\n",
    "    axes[i].set_title(criterion, fontsize=14, fontweight='bold')\n",
    "    axes[i].set_xlabel(\"\", fontsize=12, fontweight='bold')\n",
    "    axes[i].set_ylabel(\"Count\", fontsize=12, fontweight='bold')\n",
    "    axes[i].tick_params(axis='x', rotation=45)\n",
    "\n",
    "    for label in axes[i].get_xticklabels():\n",
    "        label.set_fontsize(10)\n",
    "        label.set_fontweight('bold')\n",
    "\n",
    "    for label in axes[i].get_yticklabels():\n",
    "        label.set_fontsize(10)\n",
    "        label.set_fontweight('bold')\n",
    "\n",
    "    legend = axes[i].get_legend()\n",
    "    if legend:\n",
    "        for text in legend.get_texts():\n",
    "            text.set_fontweight('bold')\n",
    "        legend.set_title(\"Label\", prop={'weight': 'bold', 'size': 12})\n",
    "    \n",
    "for j in range(i + 1, len(axes)):\n",
    "    fig.delaxes(axes[j])\n",
    "\n",
    "fig.suptitle(\"Positive and Negative Counts Across Datasets for Each Criterion\", fontsize=18, fontweight='bold')\n",
    "plt.show()\n"
   ]
  },
  {
   "cell_type": "markdown",
   "metadata": {},
   "source": [
    "## Implemeting cohen's kappa"
   ]
  },
  {
   "cell_type": "code",
   "execution_count": 19,
   "metadata": {},
   "outputs": [
    {
     "name": "stdout",
     "output_type": "stream",
     "text": [
      "Note: you may need to restart the kernel to use updated packages.\n"
     ]
    },
    {
     "name": "stderr",
     "output_type": "stream",
     "text": [
      "\n",
      "[notice] A new release of pip is available: 24.3.1 -> 25.0\n",
      "[notice] To update, run: python.exe -m pip install --upgrade pip\n"
     ]
    }
   ],
   "source": [
    "%pip install --quiet --upgrade statsmodels"
   ]
  },
  {
   "cell_type": "code",
   "execution_count": null,
   "metadata": {},
   "outputs": [],
   "source": [
    "import pandas as pd # type: ignore\n",
    "import numpy as np # type: ignore\n",
    "from sklearn.metrics import cohen_kappa_score # type: ignore\n",
    "import statsmodels.stats.inter_rater as ir # type: ignore\n",
    "from scipy import stats # type: ignore\n",
    "\n",
    "results = []\n",
    "llm_names = list(set(datasets.keys()) - set(['Manual']))\n",
    "\n",
    "for llm_df, llm_name in zip(llm_dfs, llm_names):\n",
    "    manual_copy = manual_df.copy()\n",
    "    llm_copy = llm_df.copy()\n",
    "    \n",
    "    if 'Index' in manual_copy.columns and manual_copy.index.name == 'Index':\n",
    "        manual_copy = manual_copy.reset_index(drop=True)\n",
    "    if 'Index' in llm_copy.columns and llm_copy.index.name == 'Index':\n",
    "        llm_copy = llm_copy.reset_index(drop=True)\n",
    "    common_indices = set(manual_df['Index']) & set(llm_df['Index'])\n",
    "    if not common_indices:\n",
    "        print(f\"No common indices found for {llm_name}\")\n",
    "        continue\n",
    "        \n",
    "    manual_subset = manual_copy[manual_copy['Index'].isin(common_indices)]\n",
    "    llm_subset = llm_copy[llm_copy['Index'].isin(common_indices)]\n",
    "    \n",
    "    manual_subset = manual_subset.sort_values('Index').reset_index(drop=True)\n",
    "    llm_subset = llm_subset.sort_values('Index').reset_index(drop=True)\n",
    "    \n",
    "    if not all(manual_subset['Index'] == llm_subset['Index']):\n",
    "        raise ValueError(f\"Indices not properly aligned for {llm_name}\")\n",
    "\n",
    "    kappas = []\n",
    "    for col in criteria_columns:\n",
    "        kappa = cohen_kappa_score(manual_subset[col], llm_subset[col])\n",
    "        kappas.append(kappa)\n",
    "    \n",
    "    mean_kappa = np.mean(kappas)\n",
    "    \n",
    "    agreements = []\n",
    "    for col in criteria_columns:\n",
    "        agreement = (manual_subset[col] == llm_subset[col]).mean()\n",
    "        agreements.append(agreement)\n",
    "    \n",
    "    mean_alignment = np.mean(agreements) * 100\n",
    "    \n",
    "    _, p_value = stats.ttest_rel(manual_subset[criteria_columns].values.flatten(),\n",
    "                                llm_subset[criteria_columns].values.flatten())\n",
    "    \n",
    "    results.append({\n",
    "        'Model': llm_name,\n",
    "        'Agreement Metric': \"Cohen's Kappa\",\n",
    "        'Alignment Score': f\"{mean_alignment:.2f}\",\n",
    "        'Kappa Score': f\"{mean_kappa:.3f}\",\n",
    "        'p-Value': f\"{p_value:.4f}\"\n",
    "    })"
   ]
  },
  {
   "cell_type": "code",
   "execution_count": 21,
   "metadata": {},
   "outputs": [
    {
     "name": "stdout",
     "output_type": "stream",
     "text": [
      "\\begin{tabular}{lllll}\n",
      "\\toprule\n",
      "Model & Agreement Metric & Alignment Score & Kappa Score & p-Value \\\\\n",
      "\\midrule\n",
      "Llama & Cohen's Kappa & 87.44 & 0.662 & 0.0000 \\\\\n",
      "GPT & Cohen's Kappa & 50.74 & -0.037 & 0.0000 \\\\\n",
      "Gemini & Cohen's Kappa & 64.49 & 0.103 & 0.0000 \\\\\n",
      "Mistral & Cohen's Kappa & 54.55 & 0.012 & 0.0000 \\\\\n",
      "\\bottomrule\n",
      "\\end{tabular}\n",
      "\n"
     ]
    }
   ],
   "source": [
    "results_df = pd.DataFrame(results)\n",
    "latex_table = results_df.to_latex(index=False, escape=False)\n",
    "print(latex_table)"
   ]
  },
  {
   "cell_type": "code",
   "execution_count": null,
   "metadata": {},
   "outputs": [],
   "source": [
    "from statsmodels.stats.inter_rater import fleiss_kappa # type: ignore\n",
    "\n",
    "def calculate_fleiss_kappa_per_criterion(llm_dfs, annotation_columns):\n",
    "    results = {}\n",
    "    \n",
    "    for criterion in annotation_columns:\n",
    "        n_items = len(llm_dfs[0])  \n",
    "        data_matrix = np.zeros((n_items, 2))  \n",
    "        \n",
    "        for i in range(n_items):\n",
    "            ratings = [df.iloc[i][criterion] for df in llm_dfs]\n",
    "            for rating in ratings:\n",
    "                idx = 1 if rating == 1 else 0\n",
    "                data_matrix[i, idx] += 1\n",
    "        \n",
    "        kappa = fleiss_kappa(data_matrix)\n",
    "        \n",
    "        perfect_agreement = np.sum(np.any(data_matrix == 4, axis=1))\n",
    "        majority_agreement = np.sum(np.any(data_matrix == 3, axis=1))\n",
    "        split_decision = np.sum(np.all(data_matrix == 2, axis=1))\n",
    "        \n",
    "        results[criterion] = {\n",
    "            'kappa': kappa,\n",
    "            'perfect_agreement': perfect_agreement,\n",
    "            'perfect_agreement_percentage': (perfect_agreement / n_items) * 100,\n",
    "            'majority_agreement': majority_agreement,\n",
    "            'majority_agreement_percentage': (majority_agreement / n_items) * 100,\n",
    "            'split_decision': split_decision,\n",
    "            'split_decision_percentage': (split_decision / n_items) * 100,\n",
    "            'data_matrix': data_matrix\n",
    "        }\n",
    "    \n",
    "    return results"
   ]
  },
  {
   "cell_type": "code",
   "execution_count": 23,
   "metadata": {},
   "outputs": [],
   "source": [
    "def print_comprehensive_results(results):\n",
    "\n",
    "    print(\"\\nFleiss' Kappa Results for Each Criterion:\")\n",
    "    print(\"-\" * 80)\n",
    "    \n",
    "    kappa_values = [results[criterion]['kappa'] for criterion in results]\n",
    "    avg_kappa = np.mean(kappa_values)\n",
    "    \n",
    "    print(f\"Average Kappa across all criteria: {avg_kappa:.3f}\\n\")\n",
    "    \n",
    "    for criterion in results:\n",
    "        stats = results[criterion]\n",
    "        print(f\"\\n{criterion}:\")\n",
    "        print(f\"Kappa: {stats['kappa']:.3f}\")\n",
    "        print(f\"Perfect Agreement: {stats['perfect_agreement']} cases ({stats['perfect_agreement_percentage']:.1f}%)\")\n",
    "        print(f\"Majority Agreement: {stats['majority_agreement']} cases ({stats['majority_agreement_percentage']:.1f}%)\")\n",
    "        print(f\"Split Decisions: {stats['split_decision']} cases ({stats['split_decision_percentage']:.1f}%)\")\n",
    "        print(\"-\" * 40)"
   ]
  },
  {
   "cell_type": "code",
   "execution_count": 24,
   "metadata": {},
   "outputs": [
    {
     "name": "stdout",
     "output_type": "stream",
     "text": [
      "\n",
      "Fleiss' Kappa Results for Each Criterion:\n",
      "--------------------------------------------------------------------------------\n",
      "Average Kappa across all criteria: -0.011\n",
      "\n",
      "\n",
      "Clarity of Review:\n",
      "Kappa: -0.075\n",
      "Perfect Agreement: 301 cases (33.3%)\n",
      "Majority Agreement: 475 cases (52.6%)\n",
      "Split Decisions: 127 cases (14.1%)\n",
      "----------------------------------------\n",
      "\n",
      "Justification of Scores:\n",
      "Kappa: -0.072\n",
      "Perfect Agreement: 310 cases (34.3%)\n",
      "Majority Agreement: 489 cases (54.2%)\n",
      "Split Decisions: 104 cases (11.5%)\n",
      "----------------------------------------\n",
      "\n",
      "Depth of Analysis:\n",
      "Kappa: -0.018\n",
      "Perfect Agreement: 343 cases (38.0%)\n",
      "Majority Agreement: 463 cases (51.3%)\n",
      "Split Decisions: 97 cases (10.7%)\n",
      "----------------------------------------\n",
      "\n",
      "Fairness and Objectivity:\n",
      "Kappa: -0.185\n",
      "Perfect Agreement: 39 cases (4.3%)\n",
      "Majority Agreement: 470 cases (52.0%)\n",
      "Split Decisions: 394 cases (43.6%)\n",
      "----------------------------------------\n",
      "\n",
      "Constructiveness of Feedback:\n",
      "Kappa: 0.124\n",
      "Perfect Agreement: 239 cases (26.5%)\n",
      "Majority Agreement: 464 cases (51.4%)\n",
      "Split Decisions: 200 cases (22.1%)\n",
      "----------------------------------------\n",
      "\n",
      "Engagement with Related Work:\n",
      "Kappa: 0.065\n",
      "Perfect Agreement: 162 cases (17.9%)\n",
      "Majority Agreement: 464 cases (51.4%)\n",
      "Split Decisions: 277 cases (30.7%)\n",
      "----------------------------------------\n",
      "\n",
      "Accuracy in Understanding:\n",
      "Kappa: -0.071\n",
      "Perfect Agreement: 200 cases (22.1%)\n",
      "Majority Agreement: 460 cases (50.9%)\n",
      "Split Decisions: 243 cases (26.9%)\n",
      "----------------------------------------\n",
      "\n",
      "Consistency of Evaluation:\n",
      "Kappa: -0.053\n",
      "Perfect Agreement: 142 cases (15.7%)\n",
      "Majority Agreement: 456 cases (50.5%)\n",
      "Split Decisions: 305 cases (33.8%)\n",
      "----------------------------------------\n",
      "\n",
      "Identification of Novelty:\n",
      "Kappa: 0.024\n",
      "Perfect Agreement: 133 cases (14.7%)\n",
      "Majority Agreement: 443 cases (49.1%)\n",
      "Split Decisions: 327 cases (36.2%)\n",
      "----------------------------------------\n",
      "\n",
      "Ethical Considerations and Responsibility:\n",
      "Kappa: 0.154\n",
      "Perfect Agreement: 686 cases (76.0%)\n",
      "Majority Agreement: 170 cases (18.8%)\n",
      "Split Decisions: 47 cases (5.2%)\n",
      "----------------------------------------\n"
     ]
    }
   ],
   "source": [
    "annotation_columns = [col for col in llm_dfs[0].columns if col not in ['Index', 'Text']]\n",
    "results = calculate_fleiss_kappa_per_criterion(llm_dfs, annotation_columns)\n",
    "print_comprehensive_results(results)"
   ]
  },
  {
   "cell_type": "code",
   "execution_count": 25,
   "metadata": {},
   "outputs": [
    {
     "name": "stdout",
     "output_type": "stream",
     "text": [
      "\n",
      "Overall Agreement Trends:\n",
      "Perfect Agreement Rate: 28.3%\n",
      "Majority Agreement Rate: 48.2%\n",
      "Split Decision Rate: 23.5%\n"
     ]
    }
   ],
   "source": [
    "total_cases = len(llm_dfs[0]) * len(annotation_columns)\n",
    "total_perfect = sum(results[c]['perfect_agreement'] for c in results)\n",
    "total_majority = sum(results[c]['majority_agreement'] for c in results)\n",
    "total_split = sum(results[c]['split_decision'] for c in results)\n",
    "\n",
    "print(\"\\nOverall Agreement Trends:\")\n",
    "print(f\"Perfect Agreement Rate: {(total_perfect/total_cases)*100:.1f}%\")\n",
    "print(f\"Majority Agreement Rate: {(total_majority/total_cases)*100:.1f}%\")\n",
    "print(f\"Split Decision Rate: {(total_split/total_cases)*100:.1f}%\")"
   ]
  },
  {
   "cell_type": "code",
   "execution_count": 26,
   "metadata": {},
   "outputs": [],
   "source": [
    "def interpret_kappa(k):\n",
    "    if k < 0: return \"Poor\"\n",
    "    elif k < 0.20: return \"Slight\"\n",
    "    elif k < 0.40: return \"Fair\"\n",
    "    elif k < 0.60: return \"Moderate\"\n",
    "    elif k < 0.80: return \"Substantial\"\n",
    "    else: return \"Almost Perfect\""
   ]
  },
  {
   "cell_type": "code",
   "execution_count": 27,
   "metadata": {},
   "outputs": [
    {
     "name": "stdout",
     "output_type": "stream",
     "text": [
      "\n",
      "Kappa Interpretation:\n",
      "Average Kappa (-0.011): Poor\n",
      "Clarity of Review: -0.075 - Poor\n",
      "Justification of Scores: -0.072 - Poor\n",
      "Depth of Analysis: -0.018 - Poor\n",
      "Fairness and Objectivity: -0.185 - Poor\n",
      "Constructiveness of Feedback: 0.124 - Slight\n",
      "Engagement with Related Work: 0.065 - Slight\n",
      "Accuracy in Understanding: -0.071 - Poor\n",
      "Consistency of Evaluation: -0.053 - Poor\n",
      "Identification of Novelty: 0.024 - Slight\n",
      "Ethical Considerations and Responsibility: 0.154 - Slight\n"
     ]
    }
   ],
   "source": [
    "avg_kappa = -0.011\n",
    "print(\"\\nKappa Interpretation:\")\n",
    "print(f\"Average Kappa ({avg_kappa:.3f}): {interpret_kappa(avg_kappa)}\")\n",
    "for criterion in results:\n",
    "    k = results[criterion]['kappa']\n",
    "    print(f\"{criterion}: {k:.3f} - {interpret_kappa(k)}\")"
   ]
  },
  {
   "cell_type": "markdown",
   "metadata": {},
   "source": [
    "## Advanced Metrics"
   ]
  },
  {
   "cell_type": "code",
   "execution_count": 37,
   "metadata": {},
   "outputs": [],
   "source": [
    "def filter_high_agreement_rows(manual_df, llm_df, criteria_columns, threshold=0.8):\n",
    "    agreement_scores = []\n",
    "    for _, (manual_row, llm_row) in enumerate(zip(manual_df[criteria_columns].values, llm_df[criteria_columns].values)):\n",
    "        agreement = np.mean(manual_row == llm_row)\n",
    "        agreement_scores.append(agreement)\n",
    "\n",
    "    manual_df['Agreement'] = agreement_scores\n",
    "    llm_df['Agreement'] = agreement_scores\n",
    "\n",
    "    high_agreement_indices = manual_df[manual_df['Agreement'] >= threshold].index\n",
    "    return manual_df.loc[high_agreement_indices], llm_df.loc[high_agreement_indices]"
   ]
  },
  {
   "cell_type": "code",
   "execution_count": null,
   "metadata": {},
   "outputs": [],
   "source": [
    "import pandas as pd # type: ignore\n",
    "import numpy as np # type: ignore\n",
    "from sklearn.metrics import cohen_kappa_score # type: ignore\n",
    "import statsmodels.stats.inter_rater as ir # type: ignore\n",
    "from scipy import stats # type: ignore\n",
    "\n",
    "results = []\n",
    "llm_names = list(set(datasets.keys()) - set(['Manual']))\n",
    "\n",
    "for llm_df, llm_name in zip(llm_dfs, llm_names):\n",
    "    manual_copy = manual_df.copy()\n",
    "    llm_copy = llm_df.copy()\n",
    "    \n",
    "    if 'Index' in manual_copy.columns and manual_copy.index.name == 'Index':\n",
    "        manual_copy = manual_copy.reset_index(drop=True)\n",
    "    if 'Index' in llm_copy.columns and llm_copy.index.name == 'Index':\n",
    "        llm_copy = llm_copy.reset_index(drop=True)\n",
    "    common_indices = set(manual_df['Index']) & set(llm_df['Index'])\n",
    "    if not common_indices:\n",
    "        print(f\"No common indices found for {llm_name}\")\n",
    "        continue\n",
    "        \n",
    "    manual_subset = manual_copy[manual_copy['Index'].isin(common_indices)]\n",
    "    llm_subset = llm_copy[llm_copy['Index'].isin(common_indices)]\n",
    "    \n",
    "    manual_subset = manual_subset.sort_values('Index').reset_index(drop=True)\n",
    "    llm_subset = llm_subset.sort_values('Index').reset_index(drop=True)\n",
    "\n",
    "    manual_subset, llm_subset = filter_high_agreement_rows(manual_subset, llm_subset, criteria_columns, threshold=0.8)\n",
    "    \n",
    "    manual_subset = manual_subset.sort_values('Index').reset_index(drop=True)\n",
    "    llm_subset = llm_subset.sort_values('Index').reset_index(drop=True)\n",
    "    \n",
    "    if not all(manual_subset['Index'] == llm_subset['Index']):\n",
    "        raise ValueError(f\"Indices not properly aligned for {llm_name}\")\n",
    "\n",
    "    kappas = []\n",
    "    for col in criteria_columns:\n",
    "        if len(manual_subset[col].unique()) == 1 or len(llm_subset[col].unique()) == 1:\n",
    "            kappas.append(np.nan) \n",
    "            continue\n",
    "\n",
    "        kappa = cohen_kappa_score(manual_subset[col], llm_subset[col], weights='quadratic')\n",
    "        kappas.append(kappa)\n",
    "\n",
    "    mean_kappa = np.nanmean(kappas) \n",
    "    \n",
    "    agreements = []\n",
    "    for col in criteria_columns:\n",
    "        agreement = (manual_subset[col] == llm_subset[col]).mean()\n",
    "        agreements.append(agreement)\n",
    "    \n",
    "    mean_alignment = np.mean(agreements) * 100\n",
    "    \n",
    "    _, p_value = stats.ttest_rel(manual_subset[criteria_columns].values.flatten(),\n",
    "                                llm_subset[criteria_columns].values.flatten())\n",
    "    \n",
    "    results.append({\n",
    "        'Model': llm_name,\n",
    "        'Agreement Metric': \"Cohen's Kappa\",\n",
    "        'Alignment Score': f\"{mean_alignment:.2f}\",\n",
    "        'Kappa Score': f\"{mean_kappa:.3f}\",\n",
    "        'p-Value': f\"{p_value:.4f}\"\n",
    "    })"
   ]
  },
  {
   "cell_type": "code",
   "execution_count": 39,
   "metadata": {},
   "outputs": [
    {
     "name": "stdout",
     "output_type": "stream",
     "text": [
      "\\begin{tabular}{lllll}\n",
      "\\toprule\n",
      "Model & Agreement Metric & Alignment Score & Kappa Score & p-Value \\\\\n",
      "\\midrule\n",
      "Llama & Cohen's Kappa & 99.12 & 0.934 & 0.0039 \\\\\n",
      "GPT & Cohen's Kappa & 86.32 & 0.664 & 0.0263 \\\\\n",
      "Gemini & Cohen's Kappa & 85.95 & 0.537 & 0.0775 \\\\\n",
      "Mistral & Cohen's Kappa & 84.55 & 0.302 & 0.0151 \\\\\n",
      "\\bottomrule\n",
      "\\end{tabular}\n",
      "\n"
     ]
    }
   ],
   "source": [
    "results_df = pd.DataFrame(results)\n",
    "latex_table = results_df.to_latex(index=False, escape=False)\n",
    "print(latex_table)"
   ]
  },
  {
   "cell_type": "code",
   "execution_count": null,
   "metadata": {},
   "outputs": [],
   "source": [
    "from statsmodels.stats.inter_rater import fleiss_kappa # type: ignore\n",
    "\n",
    "def calculate_fleiss_kappa_per_criterion(llm_dfs, annotation_columns, manual_subset):\n",
    "    results = {}\n",
    "    \n",
    "    filtered_dfs = [df.loc[manual_subset.Index] for df in llm_dfs]\n",
    "    n_items = len(filtered_dfs[0]) \n",
    "\n",
    "    if n_items == 0:\n",
    "        raise ValueError(\"No rows selected after filtering. Ensure the filter mask is valid.\")\n",
    "\n",
    "    for criterion in annotation_columns:\n",
    "        data_matrix = np.zeros((n_items, 2))  \n",
    "        \n",
    "        for i in range(n_items):\n",
    "            ratings = [df.iloc[i][criterion] for df in filtered_dfs]\n",
    "            for rating in ratings:\n",
    "                idx = 1 if rating == 1 else 0\n",
    "                data_matrix[i, idx] += 1\n",
    "        \n",
    "        kappa = fleiss_kappa(data_matrix)\n",
    "        \n",
    "        perfect_agreement = np.sum(np.any(data_matrix == len(filtered_dfs), axis=1))\n",
    "        majority_agreement = np.sum(np.any(data_matrix == len(filtered_dfs) - 1, axis=1))\n",
    "        split_decision = np.sum(np.all(data_matrix == len(filtered_dfs) // 2, axis=1))\n",
    "        \n",
    "        results[criterion] = {\n",
    "            'kappa': kappa,\n",
    "            'perfect_agreement': perfect_agreement,\n",
    "            'perfect_agreement_percentage': (perfect_agreement / n_items) * 100,\n",
    "            'majority_agreement': majority_agreement,\n",
    "            'majority_agreement_percentage': (majority_agreement / n_items) * 100,\n",
    "            'split_decision': split_decision,\n",
    "            'split_decision_percentage': (split_decision / n_items) * 100,\n",
    "            'data_matrix': data_matrix\n",
    "        }\n",
    "    \n",
    "    return results"
   ]
  },
  {
   "cell_type": "code",
   "execution_count": 41,
   "metadata": {},
   "outputs": [],
   "source": [
    "annotation_columns = [col for col in llm_dfs[0].columns if col not in ['Index', 'Text']]\n",
    "results = calculate_fleiss_kappa_per_criterion(llm_dfs, annotation_columns, manual_subset)"
   ]
  },
  {
   "cell_type": "code",
   "execution_count": 42,
   "metadata": {},
   "outputs": [
    {
     "name": "stdout",
     "output_type": "stream",
     "text": [
      "\n",
      "Fleiss' Kappa Results for Each Criterion:\n",
      "--------------------------------------------------------------------------------\n",
      "Average Kappa across all criteria: -0.082\n",
      "\n",
      "\n",
      "Clarity of Review:\n",
      "Kappa: -0.092\n",
      "Perfect Agreement: 13 cases (29.5%)\n",
      "Majority Agreement: 21 cases (47.7%)\n",
      "Split Decisions: 10 cases (22.7%)\n",
      "----------------------------------------\n",
      "\n",
      "Justification of Scores:\n",
      "Kappa: -0.170\n",
      "Perfect Agreement: 16 cases (36.4%)\n",
      "Majority Agreement: 27 cases (61.4%)\n",
      "Split Decisions: 1 cases (2.3%)\n",
      "----------------------------------------\n",
      "\n",
      "Depth of Analysis:\n",
      "Kappa: -0.189\n",
      "Perfect Agreement: 16 cases (36.4%)\n",
      "Majority Agreement: 28 cases (63.6%)\n",
      "Split Decisions: 0 cases (0.0%)\n",
      "----------------------------------------\n",
      "\n",
      "Fairness and Objectivity:\n",
      "Kappa: -0.163\n",
      "Perfect Agreement: 5 cases (11.4%)\n",
      "Majority Agreement: 18 cases (40.9%)\n",
      "Split Decisions: 21 cases (47.7%)\n",
      "----------------------------------------\n",
      "\n",
      "Constructiveness of Feedback:\n",
      "Kappa: -0.079\n",
      "Perfect Agreement: 11 cases (25.0%)\n",
      "Majority Agreement: 22 cases (50.0%)\n",
      "Split Decisions: 11 cases (25.0%)\n",
      "----------------------------------------\n",
      "\n",
      "Engagement with Related Work:\n",
      "Kappa: 0.037\n",
      "Perfect Agreement: 9 cases (20.5%)\n",
      "Majority Agreement: 24 cases (54.5%)\n",
      "Split Decisions: 11 cases (25.0%)\n",
      "----------------------------------------\n",
      "\n",
      "Accuracy in Understanding:\n",
      "Kappa: -0.131\n",
      "Perfect Agreement: 12 cases (27.3%)\n",
      "Majority Agreement: 25 cases (56.8%)\n",
      "Split Decisions: 7 cases (15.9%)\n",
      "----------------------------------------\n",
      "\n",
      "Consistency of Evaluation:\n",
      "Kappa: -0.105\n",
      "Perfect Agreement: 11 cases (25.0%)\n",
      "Majority Agreement: 26 cases (59.1%)\n",
      "Split Decisions: 7 cases (15.9%)\n",
      "----------------------------------------\n",
      "\n",
      "Identification of Novelty:\n",
      "Kappa: -0.048\n",
      "Perfect Agreement: 8 cases (18.2%)\n",
      "Majority Agreement: 16 cases (36.4%)\n",
      "Split Decisions: 20 cases (45.5%)\n",
      "----------------------------------------\n",
      "\n",
      "Ethical Considerations and Responsibility:\n",
      "Kappa: 0.117\n",
      "Perfect Agreement: 22 cases (50.0%)\n",
      "Majority Agreement: 17 cases (38.6%)\n",
      "Split Decisions: 5 cases (11.4%)\n",
      "----------------------------------------\n"
     ]
    }
   ],
   "source": [
    "print_comprehensive_results(results)"
   ]
  },
  {
   "cell_type": "code",
   "execution_count": 43,
   "metadata": {},
   "outputs": [],
   "source": [
    "filtered_dfs = [df.loc[manual_subset.Index] for df in llm_dfs]"
   ]
  },
  {
   "cell_type": "code",
   "execution_count": 44,
   "metadata": {},
   "outputs": [
    {
     "name": "stdout",
     "output_type": "stream",
     "text": [
      "\n",
      "Overall Agreement Trends:\n",
      "Perfect Agreement Rate: 28.0%\n",
      "Majority Agreement Rate: 50.9%\n",
      "Split Decision Rate: 21.1%\n"
     ]
    }
   ],
   "source": [
    "total_cases = len(filtered_dfs[0]) * len(annotation_columns)\n",
    "total_perfect = sum(results[c]['perfect_agreement'] for c in results)\n",
    "total_majority = sum(results[c]['majority_agreement'] for c in results)\n",
    "total_split = sum(results[c]['split_decision'] for c in results)\n",
    "\n",
    "print(\"\\nOverall Agreement Trends:\")\n",
    "print(f\"Perfect Agreement Rate: {(total_perfect/total_cases)*100:.1f}%\")\n",
    "print(f\"Majority Agreement Rate: {(total_majority/total_cases)*100:.1f}%\")\n",
    "print(f\"Split Decision Rate: {(total_split/total_cases)*100:.1f}%\")"
   ]
  },
  {
   "cell_type": "code",
   "execution_count": 45,
   "metadata": {},
   "outputs": [
    {
     "name": "stdout",
     "output_type": "stream",
     "text": [
      "\n",
      "Kappa Interpretation:\n",
      "Average Kappa (-0.082): Poor\n",
      "Clarity of Review: -0.092 - Poor\n",
      "Justification of Scores: -0.170 - Poor\n",
      "Depth of Analysis: -0.189 - Poor\n",
      "Fairness and Objectivity: -0.163 - Poor\n",
      "Constructiveness of Feedback: -0.079 - Poor\n",
      "Engagement with Related Work: 0.037 - Slight\n",
      "Accuracy in Understanding: -0.131 - Poor\n",
      "Consistency of Evaluation: -0.105 - Poor\n",
      "Identification of Novelty: -0.048 - Poor\n",
      "Ethical Considerations and Responsibility: 0.117 - Slight\n"
     ]
    }
   ],
   "source": [
    "avg_kappa = -0.082\n",
    "print(\"\\nKappa Interpretation:\")\n",
    "print(f\"Average Kappa ({avg_kappa:.3f}): {interpret_kappa(avg_kappa)}\")\n",
    "for criterion in results:\n",
    "    k = results[criterion]['kappa']\n",
    "    print(f\"{criterion}: {k:.3f} - {interpret_kappa(k)}\")"
   ]
  },
  {
   "cell_type": "markdown",
   "metadata": {},
   "source": [
    "## Visualization of the results"
   ]
  },
  {
   "cell_type": "code",
   "execution_count": null,
   "metadata": {},
   "outputs": [],
   "source": [
    "import matplotlib.pyplot as plt # type: ignore\n",
    "import seaborn as sns # type: ignore\n",
    "import pandas as pd # type: ignore\n",
    "\n",
    "model_data = pd.DataFrame({\n",
    "    'Model': ['Llama', 'Gemini', 'GPT', 'Mistral'],\n",
    "    'Agreement Metric': [\"Cohen's Kappa\"] * 4,\n",
    "    'Alignment Score': [90.12, 86.32, 85.95, 84.55],\n",
    "    'Kappa Score': [0.834, 0.664, 0.537, 0.302],\n",
    "    'p-Value': [0.0039, 0.0263, 0.0775, 0.0151],\n",
    "})"
   ]
  },
  {
   "cell_type": "code",
   "execution_count": 47,
   "metadata": {},
   "outputs": [],
   "source": [
    "criteria_data = pd.DataFrame({\n",
    "    'Criterion': [\n",
    "        'Clarity of Review', 'Justification of Scores', 'Depth of Analysis',\n",
    "        'Fairness and Objectivity', 'Constructiveness of Feedback',\n",
    "        'Engagement with Related Work', 'Accuracy in Understanding',\n",
    "        'Consistency of Evaluation', 'Identification of Novelty',\n",
    "        'Ethical Considerations and Responsibility'\n",
    "    ],\n",
    "    'Kappa': [\n",
    "        -0.075, -0.072, -0.018, -0.185, 0.124, 0.065,\n",
    "        -0.071, -0.053, 0.024, 0.154\n",
    "    ],\n",
    "    'Agreement': ['Poor', 'Poor', 'Poor', 'Poor', 'Slight', 'Slight', 'Poor', 'Poor', 'Slight', 'Slight'],\n",
    "})"
   ]
  },
  {
   "cell_type": "code",
   "execution_count": 48,
   "metadata": {},
   "outputs": [],
   "source": [
    "overall_agreement = {\n",
    "    'Perfect': 28.0,\n",
    "    'Majority': 50.9,\n",
    "    'Split': 21.1,\n",
    "}"
   ]
  },
  {
   "cell_type": "code",
   "execution_count": 49,
   "metadata": {},
   "outputs": [
    {
     "name": "stderr",
     "output_type": "stream",
     "text": [
      "C:\\Users\\TIRATH BHATHAWALA\\AppData\\Local\\Temp\\ipykernel_3824\\2406001958.py:2: FutureWarning: \n",
      "\n",
      "Passing `palette` without assigning `hue` is deprecated and will be removed in v0.14.0. Assign the `x` variable to `hue` and set `legend=False` for the same effect.\n",
      "\n",
      "  sns.barplot(data=model_data, x='Model', y='Alignment Score', palette='viridis')\n"
     ]
    },
    {
     "data": {
      "image/png": "[encoded data removed]",
      "text/plain": [
       "<Figure size 1000x600 with 1 Axes>"
      ]
     },
     "metadata": {},
     "output_type": "display_data"
    }
   ],
   "source": [
    "plt.figure(figsize=(10, 6))\n",
    "sns.barplot(data=model_data, x='Model', y='Alignment Score', palette='viridis')\n",
    "plt.title('Alignment Scores Across Models', fontsize=14)\n",
    "plt.ylabel('Alignment Score (%)')\n",
    "plt.show()"
   ]
  },
  {
   "cell_type": "code",
   "execution_count": 50,
   "metadata": {},
   "outputs": [
    {
     "name": "stderr",
     "output_type": "stream",
     "text": [
      "C:\\Users\\TIRATH BHATHAWALA\\AppData\\Local\\Temp\\ipykernel_3824\\2142739371.py:3: FutureWarning: \n",
      "\n",
      "Passing `palette` without assigning `hue` is deprecated and will be removed in v0.14.0. Assign the `y` variable to `hue` and set `legend=False` for the same effect.\n",
      "\n",
      "  sns.barplot(data=agreement_df, y='Type', x='Rate', palette='coolwarm')\n"
     ]
    },
    {
     "data": {
      "image/png": "[encoded data removed]",
      "text/plain": [
       "<Figure size 800x500 with 1 Axes>"
      ]
     },
     "metadata": {},
     "output_type": "display_data"
    }
   ],
   "source": [
    "agreement_df = pd.DataFrame(list(overall_agreement.items()), columns=['Type', 'Rate'])\n",
    "plt.figure(figsize=(8, 5))\n",
    "sns.barplot(data=agreement_df, y='Type', x='Rate', palette='coolwarm')\n",
    "plt.title('Overall Agreement Trends', fontsize=14)\n",
    "plt.xlabel('Rate (%)')\n",
    "plt.show()"
   ]
  },
  {
   "cell_type": "code",
   "execution_count": 51,
   "metadata": {},
   "outputs": [
    {
     "data": {
      "image/png": "[encoded data removed]",
      "text/plain": [
       "<Figure size 1200x800 with 2 Axes>"
      ]
     },
     "metadata": {},
     "output_type": "display_data"
    }
   ],
   "source": [
    "pivot_criteria = criteria_data.pivot(index='Criterion', columns='Agreement', values='Kappa')\n",
    "\n",
    "plt.figure(figsize=(12, 8))\n",
    "heatmap = sns.heatmap(\n",
    "    pivot_criteria,\n",
    "    annot=True,\n",
    "    cmap='RdBu',\n",
    "    center=0,\n",
    "    linewidths=0.5,\n",
    "    annot_kws={'fontsize': 12, 'fontweight': 'bold'}, \n",
    ")\n",
    "\n",
    "plt.title('Kappa Scores and Interpretations Across Criteria', fontsize=16, fontweight='bold')\n",
    "\n",
    "plt.xlabel(pivot_criteria.columns.name, fontsize=14, fontweight='bold') \n",
    "plt.ylabel(pivot_criteria.index.name, fontsize=14, fontweight='bold')   \n",
    "\n",
    "plt.xticks(fontsize=12, fontweight='bold')\n",
    "plt.yticks(fontsize=12, fontweight='bold')\n",
    "\n",
    "plt.show()"
   ]
  },
  {
   "cell_type": "code",
   "execution_count": 52,
   "metadata": {},
   "outputs": [],
   "source": [
    "visual_data = []\n",
    "for criterion, stats in results.items():\n",
    "    visual_data.append({\n",
    "        'Criterion': criterion,\n",
    "        'Perfect Agreement (%)': stats['perfect_agreement_percentage'],\n",
    "        'Majority Agreement (%)': stats['majority_agreement_percentage'],\n",
    "        'Split Decision (%)': stats['split_decision_percentage']\n",
    "    })\n",
    "\n",
    "visual_df = pd.DataFrame(visual_data)"
   ]
  },
  {
   "cell_type": "code",
   "execution_count": 53,
   "metadata": {},
   "outputs": [
    {
     "name": "stdout",
     "output_type": "stream",
     "text": [
      "Note: you may need to restart the kernel to use updated packages.\n"
     ]
    },
    {
     "name": "stderr",
     "output_type": "stream",
     "text": [
      "ERROR: Could not install packages due to an OSError: [WinError 5] Access is denied: 'c:\\\\Users\\\\TIRATH BHATHAWALA\\\\Documents\\\\intern\\\\iit_patna\\\\ScorePR\\\\IIT_Patna_ScorePR\\\\venv\\\\Lib\\\\site-packages\\\\plotly-6.0.0.dist-info\\\\RECORDhfb8kaqk.tmp' -> 'c:\\\\Users\\\\TIRATH BHATHAWALA\\\\Documents\\\\intern\\\\iit_patna\\\\ScorePR\\\\IIT_Patna_ScorePR\\\\venv\\\\Lib\\\\site-packages\\\\plotly-6.0.0.dist-info\\\\RECORD'\n",
      "Check the permissions.\n",
      "\n",
      "\n",
      "[notice] A new release of pip is available: 24.3.1 -> 25.0\n",
      "[notice] To update, run: python.exe -m pip install --upgrade pip\n"
     ]
    }
   ],
   "source": [
    "%pip install --upgrade --quiet plotly"
   ]
  },
  {
   "cell_type": "code",
   "execution_count": null,
   "metadata": {},
   "outputs": [
    {
     "data": {
      "application/vnd.plotly.v1+json": {
       "config": {
        "plotlyServerURL": "https://plot.ly"
       },
       "data": [
        {
         "alignmentgroup": "True",
         "hovertemplate": "Criterion=Clarity of Review<br>Agreement Type=%{x}<br>Percentage=%{y}<extra></extra>",
         "legendgroup": "Clarity of Review",
         "marker": {
          "color": "#636efa",
          "pattern": {
           "shape": ""
          }
         },
         "name": "Clarity of Review",
         "offsetgroup": "Clarity of Review",
         "orientation": "v",
         "showlegend": true,
         "textfont": {
          "family": "Arial Black",
          "size": 12
         },
         "textposition": "outside",
         "type": "bar",
         "x": [
          "Perfect Agreement (%)",
          "Majority Agreement (%)",
          "Split Decision (%)"
         ],
         "xaxis": "x",
         "y": [
          29.545454545454547,
          47.72727272727273,
          22.727272727272727
         ],
         "yaxis": "y"
        },
        {
         "alignmentgroup": "True",
         "hovertemplate": "Criterion=Justification of Scores<br>Agreement Type=%{x}<br>Percentage=%{y}<extra></extra>",
         "legendgroup": "Justification of Scores",
         "marker": {
          "color": "#EF553B",
          "pattern": {
           "shape": ""
          }
         },
         "name": "Justification of Scores",
         "offsetgroup": "Justification of Scores",
         "orientation": "v",
         "showlegend": true,
         "textfont": {
          "family": "Arial Black",
          "size": 12
         },
         "textposition": "outside",
         "type": "bar",
         "x": [
          "Perfect Agreement (%)",
          "Majority Agreement (%)",
          "Split Decision (%)"
         ],
         "xaxis": "x",
         "y": [
          36.36363636363637,
          61.36363636363637,
          2.272727272727273
         ],
         "yaxis": "y"
        },
        {
         "alignmentgroup": "True",
         "hovertemplate": "Criterion=Depth of Analysis<br>Agreement Type=%{x}<br>Percentage=%{y}<extra></extra>",
         "legendgroup": "Depth of Analysis",
         "marker": {
          "color": "#00cc96",
          "pattern": {
           "shape": ""
          }
         },
         "name": "Depth of Analysis",
         "offsetgroup": "Depth of Analysis",
         "orientation": "v",
         "showlegend": true,
         "textfont": {
          "family": "Arial Black",
          "size": 12
         },
         "textposition": "outside",
         "type": "bar",
         "x": [
          "Perfect Agreement (%)",
          "Majority Agreement (%)",
          "Split Decision (%)"
         ],
         "xaxis": "x",
         "y": [
          36.36363636363637,
          63.63636363636363,
          0
         ],
         "yaxis": "y"
        },
        {
         "alignmentgroup": "True",
         "hovertemplate": "Criterion=Fairness and Objectivity<br>Agreement Type=%{x}<br>Percentage=%{y}<extra></extra>",
         "legendgroup": "Fairness and Objectivity",
         "marker": {
          "color": "#ab63fa",
          "pattern": {
           "shape": ""
          }
         },
         "name": "Fairness and Objectivity",
         "offsetgroup": "Fairness and Objectivity",
         "orientation": "v",
         "showlegend": true,
         "textfont": {
          "family": "Arial Black",
          "size": 12
         },
         "textposition": "outside",
         "type": "bar",
         "x": [
          "Perfect Agreement (%)",
          "Majority Agreement (%)",
          "Split Decision (%)"
         ],
         "xaxis": "x",
         "y": [
          11.363636363636363,
          40.909090909090914,
          47.72727272727273
         ],
         "yaxis": "y"
        },
        {
         "alignmentgroup": "True",
         "hovertemplate": "Criterion=Constructiveness of Feedback<br>Agreement Type=%{x}<br>Percentage=%{y}<extra></extra>",
         "legendgroup": "Constructiveness of Feedback",
         "marker": {
          "color": "#FFA15A",
          "pattern": {
           "shape": ""
          }
         },
         "name": "Constructiveness of Feedback",
         "offsetgroup": "Constructiveness of Feedback",
         "orientation": "v",
         "showlegend": true,
         "textfont": {
          "family": "Arial Black",
          "size": 12
         },
         "textposition": "outside",
         "type": "bar",
         "x": [
          "Perfect Agreement (%)",
          "Majority Agreement (%)",
          "Split Decision (%)"
         ],
         "xaxis": "x",
         "y": [
          25,
          50,
          25
         ],
         "yaxis": "y"
        },
        {
         "alignmentgroup": "True",
         "hovertemplate": "Criterion=Engagement with Related Work<br>Agreement Type=%{x}<br>Percentage=%{y}<extra></extra>",
         "legendgroup": "Engagement with Related Work",
         "marker": {
          "color": "#19d3f3",
          "pattern": {
           "shape": ""
          }
         },
         "name": "Engagement with Related Work",
         "offsetgroup": "Engagement with Related Work",
         "orientation": "v",
         "showlegend": true,
         "textfont": {
          "family": "Arial Black",
          "size": 12
         },
         "textposition": "outside",
         "type": "bar",
         "x": [
          "Perfect Agreement (%)",
          "Majority Agreement (%)",
          "Split Decision (%)"
         ],
         "xaxis": "x",
         "y": [
          20.454545454545457,
          54.54545454545454,
          25
         ],
         "yaxis": "y"
        },
        {
         "alignmentgroup": "True",
         "hovertemplate": "Criterion=Accuracy in Understanding<br>Agreement Type=%{x}<br>Percentage=%{y}<extra></extra>",
         "legendgroup": "Accuracy in Understanding",
         "marker": {
          "color": "#FF6692",
          "pattern": {
           "shape": ""
          }
         },
         "name": "Accuracy in Understanding",
         "offsetgroup": "Accuracy in Understanding",
         "orientation": "v",
         "showlegend": true,
         "textfont": {
          "family": "Arial Black",
          "size": 12
         },
         "textposition": "outside",
         "type": "bar",
         "x": [
          "Perfect Agreement (%)",
          "Majority Agreement (%)",
          "Split Decision (%)"
         ],
         "xaxis": "x",
         "y": [
          27.27272727272727,
          56.81818181818182,
          15.909090909090908
         ],
         "yaxis": "y"
        },
        {
         "alignmentgroup": "True",
         "hovertemplate": "Criterion=Consistency of Evaluation<br>Agreement Type=%{x}<br>Percentage=%{y}<extra></extra>",
         "legendgroup": "Consistency of Evaluation",
         "marker": {
          "color": "#B6E880",
          "pattern": {
           "shape": ""
          }
         },
         "name": "Consistency of Evaluation",
         "offsetgroup": "Consistency of Evaluation",
         "orientation": "v",
         "showlegend": true,
         "textfont": {
          "family": "Arial Black",
          "size": 12
         },
         "textposition": "outside",
         "type": "bar",
         "x": [
          "Perfect Agreement (%)",
          "Majority Agreement (%)",
          "Split Decision (%)"
         ],
         "xaxis": "x",
         "y": [
          25,
          59.09090909090909,
          15.909090909090908
         ],
         "yaxis": "y"
        },
        {
         "alignmentgroup": "True",
         "hovertemplate": "Criterion=Identification of Novelty<br>Agreement Type=%{x}<br>Percentage=%{y}<extra></extra>",
         "legendgroup": "Identification of Novelty",
         "marker": {
          "color": "#FF97FF",
          "pattern": {
           "shape": ""
          }
         },
         "name": "Identification of Novelty",
         "offsetgroup": "Identification of Novelty",
         "orientation": "v",
         "showlegend": true,
         "textfont": {
          "family": "Arial Black",
          "size": 12
         },
         "textposition": "outside",
         "type": "bar",
         "x": [
          "Perfect Agreement (%)",
          "Majority Agreement (%)",
          "Split Decision (%)"
         ],
         "xaxis": "x",
         "y": [
          18.181818181818183,
          36.36363636363637,
          45.45454545454545
         ],
         "yaxis": "y"
        },
        {
         "alignmentgroup": "True",
         "hovertemplate": "Criterion=Ethical Considerations and Responsibility<br>Agreement Type=%{x}<br>Percentage=%{y}<extra></extra>",
         "legendgroup": "Ethical Considerations and Responsibility",
         "marker": {
          "color": "#FECB52",
          "pattern": {
           "shape": ""
          }
         },
         "name": "Ethical Considerations and Responsibility",
         "offsetgroup": "Ethical Considerations and Responsibility",
         "orientation": "v",
         "showlegend": true,
         "textfont": {
          "family": "Arial Black",
          "size": 12
         },
         "textposition": "outside",
         "type": "bar",
         "x": [
          "Perfect Agreement (%)",
          "Majority Agreement (%)",
          "Split Decision (%)"
         ],
         "xaxis": "x",
         "y": [
          50,
          38.63636363636363,
          11.363636363636363
         ],
         "yaxis": "y"
        }
       ],
       "layout": {
        "barmode": "group",
        "legend": {
         "font": {
          "family": "Arial Black",
          "size": 12
         },
         "title": {
          "font": {
           "family": "Arial Black",
           "size": 14
          },
          "text": "Criterion"
         },
         "tracegroupgap": 0,
         "x": 0.5,
         "xanchor": "left",
         "y": 1.02,
         "yanchor": "bottom"
        },
        "template": {
         "data": {
          "bar": [
           {
            "error_x": {
             "color": "#2a3f5f"
            },
            "error_y": {
             "color": "#2a3f5f"
            },
            "marker": {
             "line": {
              "color": "#E5ECF6",
              "width": 0.5
             },
             "pattern": {
              "fillmode": "overlay",
              "size": 10,
              "solidity": 0.2
             }
            },
            "type": "bar"
           }
          ],
          "barpolar": [
           {
            "marker": {
             "line": {
              "color": "#E5ECF6",
              "width": 0.5
             },
             "pattern": {
              "fillmode": "overlay",
              "size": 10,
              "solidity": 0.2
             }
            },
            "type": "barpolar"
           }
          ],
          "carpet": [
           {
            "aaxis": {
             "endlinecolor": "#2a3f5f",
             "gridcolor": "white",
             "linecolor": "white",
             "minorgridcolor": "white",
             "startlinecolor": "#2a3f5f"
            },
            "baxis": {
             "endlinecolor": "#2a3f5f",
             "gridcolor": "white",
             "linecolor": "white",
             "minorgridcolor": "white",
             "startlinecolor": "#2a3f5f"
            },
            "type": "carpet"
           }
          ],
          "choropleth": [
           {
            "colorbar": {
             "outlinewidth": 0,
             "ticks": ""
            },
            "type": "choropleth"
           }
          ],
          "contour": [
           {
            "colorbar": {
             "outlinewidth": 0,
             "ticks": ""
            },
            "colorscale": [
             [
              0,
              "#0d0887"
             ],
             [
              0.1111111111111111,
              "#46039f"
             ],
             [
              0.2222222222222222,
              "#7201a8"
             ],
             [
              0.3333333333333333,
              "#9c179e"
             ],
             [
              0.4444444444444444,
              "#bd3786"
             ],
             [
              0.5555555555555556,
              "#d8576b"
             ],
             [
              0.6666666666666666,
              "#ed7953"
             ],
             [
              0.7777777777777778,
              "#fb9f3a"
             ],
             [
              0.8888888888888888,
              "#fdca26"
             ],
             [
              1,
              "#f0f921"
             ]
            ],
            "type": "contour"
           }
          ],
          "contourcarpet": [
           {
            "colorbar": {
             "outlinewidth": 0,
             "ticks": ""
            },
            "type": "contourcarpet"
           }
          ],
          "heatmap": [
           {
            "colorbar": {
             "outlinewidth": 0,
             "ticks": ""
            },
            "colorscale": [
             [
              0,
              "#0d0887"
             ],
             [
              0.1111111111111111,
              "#46039f"
             ],
             [
              0.2222222222222222,
              "#7201a8"
             ],
             [
              0.3333333333333333,
              "#9c179e"
             ],
             [
              0.4444444444444444,
              "#bd3786"
             ],
             [
              0.5555555555555556,
              "#d8576b"
             ],
             [
              0.6666666666666666,
              "#ed7953"
             ],
             [
              0.7777777777777778,
              "#fb9f3a"
             ],
             [
              0.8888888888888888,
              "#fdca26"
             ],
             [
              1,
              "#f0f921"
             ]
            ],
            "type": "heatmap"
           }
          ],
          "heatmapgl": [
           {
            "colorbar": {
             "outlinewidth": 0,
             "ticks": ""
            },
            "colorscale": [
             [
              0,
              "#0d0887"
             ],
             [
              0.1111111111111111,
              "#46039f"
             ],
             [
              0.2222222222222222,
              "#7201a8"
             ],
             [
              0.3333333333333333,
              "#9c179e"
             ],
             [
              0.4444444444444444,
              "#bd3786"
             ],
             [
              0.5555555555555556,
              "#d8576b"
             ],
             [
              0.6666666666666666,
              "#ed7953"
             ],
             [
              0.7777777777777778,
              "#fb9f3a"
             ],
             [
              0.8888888888888888,
              "#fdca26"
             ],
             [
              1,
              "#f0f921"
             ]
            ],
            "type": "heatmapgl"
           }
          ],
          "histogram": [
           {
            "marker": {
             "pattern": {
              "fillmode": "overlay",
              "size": 10,
              "solidity": 0.2
             }
            },
            "type": "histogram"
           }
          ],
          "histogram2d": [
           {
            "colorbar": {
             "outlinewidth": 0,
             "ticks": ""
            },
            "colorscale": [
             [
              0,
              "#0d0887"
             ],
             [
              0.1111111111111111,
              "#46039f"
             ],
             [
              0.2222222222222222,
              "#7201a8"
             ],
             [
              0.3333333333333333,
              "#9c179e"
             ],
             [
              0.4444444444444444,
              "#bd3786"
             ],
             [
              0.5555555555555556,
              "#d8576b"
             ],
             [
              0.6666666666666666,
              "#ed7953"
             ],
             [
              0.7777777777777778,
              "#fb9f3a"
             ],
             [
              0.8888888888888888,
              "#fdca26"
             ],
             [
              1,
              "#f0f921"
             ]
            ],
            "type": "histogram2d"
           }
          ],
          "histogram2dcontour": [
           {
            "colorbar": {
             "outlinewidth": 0,
             "ticks": ""
            },
            "colorscale": [
             [
              0,
              "#0d0887"
             ],
             [
              0.1111111111111111,
              "#46039f"
             ],
             [
              0.2222222222222222,
              "#7201a8"
             ],
             [
              0.3333333333333333,
              "#9c179e"
             ],
             [
              0.4444444444444444,
              "#bd3786"
             ],
             [
              0.5555555555555556,
              "#d8576b"
             ],
             [
              0.6666666666666666,
              "#ed7953"
             ],
             [
              0.7777777777777778,
              "#fb9f3a"
             ],
             [
              0.8888888888888888,
              "#fdca26"
             ],
             [
              1,
              "#f0f921"
             ]
            ],
            "type": "histogram2dcontour"
           }
          ],
          "mesh3d": [
           {
            "colorbar": {
             "outlinewidth": 0,
             "ticks": ""
            },
            "type": "mesh3d"
           }
          ],
          "parcoords": [
           {
            "line": {
             "colorbar": {
              "outlinewidth": 0,
              "ticks": ""
             }
            },
            "type": "parcoords"
           }
          ],
          "pie": [
           {
            "automargin": true,
            "type": "pie"
           }
          ],
          "scatter": [
           {
            "fillpattern": {
             "fillmode": "overlay",
             "size": 10,
             "solidity": 0.2
            },
            "type": "scatter"
           }
          ],
          "scatter3d": [
           {
            "line": {
             "colorbar": {
              "outlinewidth": 0,
              "ticks": ""
             }
            },
            "marker": {
             "colorbar": {
              "outlinewidth": 0,
              "ticks": ""
             }
            },
            "type": "scatter3d"
           }
          ],
          "scattercarpet": [
           {
            "marker": {
             "colorbar": {
              "outlinewidth": 0,
              "ticks": ""
             }
            },
            "type": "scattercarpet"
           }
          ],
          "scattergeo": [
           {
            "marker": {
             "colorbar": {
              "outlinewidth": 0,
              "ticks": ""
             }
            },
            "type": "scattergeo"
           }
          ],
          "scattergl": [
           {
            "marker": {
             "colorbar": {
              "outlinewidth": 0,
              "ticks": ""
             }
            },
            "type": "scattergl"
           }
          ],
          "scattermapbox": [
           {
            "marker": {
             "colorbar": {
              "outlinewidth": 0,
              "ticks": ""
             }
            },
            "type": "scattermapbox"
           }
          ],
          "scatterpolar": [
           {
            "marker": {
             "colorbar": {
              "outlinewidth": 0,
              "ticks": ""
             }
            },
            "type": "scatterpolar"
           }
          ],
          "scatterpolargl": [
           {
            "marker": {
             "colorbar": {
              "outlinewidth": 0,
              "ticks": ""
             }
            },
            "type": "scatterpolargl"
           }
          ],
          "scatterternary": [
           {
            "marker": {
             "colorbar": {
              "outlinewidth": 0,
              "ticks": ""
             }
            },
            "type": "scatterternary"
           }
          ],
          "surface": [
           {
            "colorbar": {
             "outlinewidth": 0,
             "ticks": ""
            },
            "colorscale": [
             [
              0,
              "#0d0887"
             ],
             [
              0.1111111111111111,
              "#46039f"
             ],
             [
              0.2222222222222222,
              "#7201a8"
             ],
             [
              0.3333333333333333,
              "#9c179e"
             ],
             [
              0.4444444444444444,
              "#bd3786"
             ],
             [
              0.5555555555555556,
              "#d8576b"
             ],
             [
              0.6666666666666666,
              "#ed7953"
             ],
             [
              0.7777777777777778,
              "#fb9f3a"
             ],
             [
              0.8888888888888888,
              "#fdca26"
             ],
             [
              1,
              "#f0f921"
             ]
            ],
            "type": "surface"
           }
          ],
          "table": [
           {
            "cells": {
             "fill": {
              "color": "#EBF0F8"
             },
             "line": {
              "color": "white"
             }
            },
            "header": {
             "fill": {
              "color": "#C8D4E3"
             },
             "line": {
              "color": "white"
             }
            },
            "type": "table"
           }
          ]
         },
         "layout": {
          "annotationdefaults": {
           "arrowcolor": "#2a3f5f",
           "arrowhead": 0,
           "arrowwidth": 1
          },
          "autotypenumbers": "strict",
          "coloraxis": {
           "colorbar": {
            "outlinewidth": 0,
            "ticks": ""
           }
          },
          "colorscale": {
           "diverging": [
            [
             0,
             "#8e0152"
            ],
            [
             0.1,
             "#c51b7d"
            ],
            [
             0.2,
             "#de77ae"
            ],
            [
             0.3,
             "#f1b6da"
            ],
            [
             0.4,
             "#fde0ef"
            ],
            [
             0.5,
             "#f7f7f7"
            ],
            [
             0.6,
             "#e6f5d0"
            ],
            [
             0.7,
             "#b8e186"
            ],
            [
             0.8,
             "#7fbc41"
            ],
            [
             0.9,
             "#4d9221"
            ],
            [
             1,
             "#276419"
            ]
           ],
           "sequential": [
            [
             0,
             "#0d0887"
            ],
            [
             0.1111111111111111,
             "#46039f"
            ],
            [
             0.2222222222222222,
             "#7201a8"
            ],
            [
             0.3333333333333333,
             "#9c179e"
            ],
            [
             0.4444444444444444,
             "#bd3786"
            ],
            [
             0.5555555555555556,
             "#d8576b"
            ],
            [
             0.6666666666666666,
             "#ed7953"
            ],
            [
             0.7777777777777778,
             "#fb9f3a"
            ],
            [
             0.8888888888888888,
             "#fdca26"
            ],
            [
             1,
             "#f0f921"
            ]
           ],
           "sequentialminus": [
            [
             0,
             "#0d0887"
            ],
            [
             0.1111111111111111,
             "#46039f"
            ],
            [
             0.2222222222222222,
             "#7201a8"
            ],
            [
             0.3333333333333333,
             "#9c179e"
            ],
            [
             0.4444444444444444,
             "#bd3786"
            ],
            [
             0.5555555555555556,
             "#d8576b"
            ],
            [
             0.6666666666666666,
             "#ed7953"
            ],
            [
             0.7777777777777778,
             "#fb9f3a"
            ],
            [
             0.8888888888888888,
             "#fdca26"
            ],
            [
             1,
             "#f0f921"
            ]
           ]
          },
          "colorway": [
           "#636efa",
           "#EF553B",
           "#00cc96",
           "#ab63fa",
           "#FFA15A",
           "#19d3f3",
           "#FF6692",
           "#B6E880",
           "#FF97FF",
           "#FECB52"
          ],
          "font": {
           "color": "#2a3f5f"
          },
          "geo": {
           "bgcolor": "white",
           "lakecolor": "white",
           "landcolor": "#E5ECF6",
           "showlakes": true,
           "showland": true,
           "subunitcolor": "white"
          },
          "hoverlabel": {
           "align": "left"
          },
          "hovermode": "closest",
          "mapbox": {
           "style": "light"
          },
          "paper_bgcolor": "white",
          "plot_bgcolor": "#E5ECF6",
          "polar": {
           "angularaxis": {
            "gridcolor": "white",
            "linecolor": "white",
            "ticks": ""
           },
           "bgcolor": "#E5ECF6",
           "radialaxis": {
            "gridcolor": "white",
            "linecolor": "white",
            "ticks": ""
           }
          },
          "scene": {
           "xaxis": {
            "backgroundcolor": "#E5ECF6",
            "gridcolor": "white",
            "gridwidth": 2,
            "linecolor": "white",
            "showbackground": true,
            "ticks": "",
            "zerolinecolor": "white"
           },
           "yaxis": {
            "backgroundcolor": "#E5ECF6",
            "gridcolor": "white",
            "gridwidth": 2,
            "linecolor": "white",
            "showbackground": true,
            "ticks": "",
            "zerolinecolor": "white"
           },
           "zaxis": {
            "backgroundcolor": "#E5ECF6",
            "gridcolor": "white",
            "gridwidth": 2,
            "linecolor": "white",
            "showbackground": true,
            "ticks": "",
            "zerolinecolor": "white"
           }
          },
          "shapedefaults": {
           "line": {
            "color": "#2a3f5f"
           }
          },
          "ternary": {
           "aaxis": {
            "gridcolor": "white",
            "linecolor": "white",
            "ticks": ""
           },
           "baxis": {
            "gridcolor": "white",
            "linecolor": "white",
            "ticks": ""
           },
           "bgcolor": "#E5ECF6",
           "caxis": {
            "gridcolor": "white",
            "linecolor": "white",
            "ticks": ""
           }
          },
          "title": {
           "x": 0.05
          },
          "xaxis": {
           "automargin": true,
           "gridcolor": "white",
           "linecolor": "white",
           "ticks": "",
           "title": {
            "standoff": 15
           },
           "zerolinecolor": "white",
           "zerolinewidth": 2
          },
          "yaxis": {
           "automargin": true,
           "gridcolor": "white",
           "linecolor": "white",
           "ticks": "",
           "title": {
            "standoff": 15
           },
           "zerolinecolor": "white",
           "zerolinewidth": 2
          }
         }
        },
        "title": {
         "font": {
          "color": "black",
          "family": "Arial Black",
          "size": 20
         },
         "text": "Agreement Percentages by Criterion"
        },
        "xaxis": {
         "anchor": "y",
         "domain": [
          0,
          1
         ],
         "tickfont": {
          "family": "Arial Black",
          "size": 14
         },
         "title": {
          "font": {
           "family": "Arial Black",
           "size": 16
          },
          "text": "Agreement Type"
         }
        },
        "yaxis": {
         "anchor": "x",
         "domain": [
          0,
          1
         ],
         "tickfont": {
          "family": "Arial Black",
          "size": 14
         },
         "title": {
          "font": {
           "family": "Arial Black",
           "size": 16
          },
          "text": "Percentage"
         }
        }
       }
      }
     },
     "metadata": {},
     "output_type": "display_data"
    }
   ],
   "source": [
    "import plotly.express as px # type: ignore\n",
    "\n",
    "fig = px.bar(\n",
    "    visual_df.melt(id_vars='Criterion', var_name='Agreement Type', value_name='Percentage'),\n",
    "    x='Agreement Type',\n",
    "    y='Percentage',\n",
    "    color='Criterion',\n",
    "    barmode='group',\n",
    "    title='Agreement Percentages by Criterion'\n",
    ")\n",
    "\n",
    "fig.update_layout(\n",
    "    title=dict(\n",
    "        text='Agreement Percentages by Criterion',\n",
    "        font=dict(size=20, family='Arial Black', color='black'),\n",
    "    ),\n",
    "    xaxis=dict(\n",
    "        title=dict(text='Agreement Type', font=dict(size=16, family='Arial Black')),\n",
    "        tickfont=dict(size=14, family='Arial Black'),\n",
    "    ),\n",
    "    yaxis=dict(\n",
    "        title=dict(text='Percentage', font=dict(size=16, family='Arial Black')),\n",
    "        tickfont=dict(size=14, family='Arial Black'),\n",
    "    ),\n",
    "    legend=dict(\n",
    "        title=dict(text='Criterion', font=dict(size=14, family='Arial Black')),\n",
    "        font=dict(size=12, family='Arial Black'), \n",
    "        yanchor='bottom',\n",
    "        y=1.02,\n",
    "        xanchor='left',\n",
    "        x=0.5\n",
    "    )\n",
    ")\n",
    "\n",
    "fig.update_traces(\n",
    "    textfont=dict(size=12, family='Arial Black'),\n",
    "    textposition=\"outside\"  \n",
    ")\n",
    "\n",
    "fig.show()"
   ]
  },
  {
   "cell_type": "code",
   "execution_count": 55,
   "metadata": {},
   "outputs": [
    {
     "data": {
      "image/png": "[encoded data removed]",
      "text/plain": [
       "<Figure size 800x800 with 1 Axes>"
      ]
     },
     "metadata": {},
     "output_type": "display_data"
    }
   ],
   "source": [
    "plt.figure(figsize=(8, 8))\n",
    "plt.pie(model_data['Alignment Score'], labels=model_data['Model'], autopct='%1.1f%%', colors=sns.color_palette(\"viridis\", len(model_data)))\n",
    "plt.title('Proportion of Alignment Scores Across Models', fontsize=14)\n",
    "plt.show()"
   ]
  },
  {
   "cell_type": "code",
   "execution_count": 56,
   "metadata": {},
   "outputs": [
    {
     "data": {
      "image/png": "[encoded data removed]",
      "text/plain": [
       "<Figure size 640x640 with 1 Axes>"
      ]
     },
     "metadata": {},
     "output_type": "display_data"
    }
   ],
   "source": [
    "from math import pi\n",
    "\n",
    "def radar_chart(data, labels, title):\n",
    "    num_vars = len(labels)\n",
    "    \n",
    "    angles = np.linspace(0, 2 * np.pi, num_vars, endpoint=False).tolist()\n",
    "    data = np.concatenate((data, [data[0]]))  \n",
    "    angles += angles[:1]\n",
    "    \n",
    "    fig, ax = plt.subplots(figsize=(8, 8), dpi=80, subplot_kw=dict(polar=True))\n",
    "    ax.fill(angles, data, color='blue', alpha=0.25)\n",
    "    ax.plot(angles, data, color='blue', linewidth=2.5)\n",
    "\n",
    "    for i in range(num_vars):\n",
    "        angle = angles[i]\n",
    "        value = data[i]\n",
    "        ax.text(angle + 0.2, value + 1, f'{value:.2f}', horizontalalignment='center', fontsize=12, color='black', fontweight='bold')\n",
    "\n",
    "    ax.set_yticklabels([])\n",
    "    ax.set_xticks(angles[:-1])\n",
    "    ax.set_xticklabels(labels, fontsize=12)\n",
    "    ax.set_title(title, fontsize=14)\n",
    "    \n",
    "    plt.show()\n",
    "\n",
    "labels = model_data['Model'].tolist()\n",
    "data = model_data['Alignment Score'].values.tolist()\n",
    "\n",
    "radar_chart(data, labels, 'Alignment Scores of Models')\n"
   ]
  }
 ],
 "metadata": {
  "kernelspec": {
   "display_name": "venv",
   "language": "python",
   "name": "python3"
  },
  "language_info": {
   "codemirror_mode": {
    "name": "ipython",
    "version": 3
   },
   "file_extension": ".py",
   "mimetype": "text/x-python",
   "name": "python",
   "nbconvert_exporter": "python",
   "pygments_lexer": "ipython3",
   "version": "3.11.9"
  }
 },
 "nbformat": 4,
 "nbformat_minor": 2
}
